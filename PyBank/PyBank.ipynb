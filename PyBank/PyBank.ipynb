{
 "cells": [
  {
   "cell_type": "code",
   "execution_count": 2,
   "metadata": {},
   "outputs": [],
   "source": [
    "#Dependencies\n",
    "import os\n",
    "import csv"
   ]
  },
  {
   "cell_type": "code",
   "execution_count": 3,
   "metadata": {},
   "outputs": [],
   "source": [
    "#set path the file\n",
    "csvpath = os.path.join('budget_data.csv')"
   ]
  },
  {
   "cell_type": "code",
   "execution_count": 4,
   "metadata": {
    "scrolled": true
   },
   "outputs": [],
   "source": [
    "#open the CSV\n",
    "with open(csvpath, newline=\"\") as csvfile:\n",
    "    csvreader = csv.reader(csvfile,delimiter=\",\")\n",
    "    \n",
    "    #Find the total number of months included in the dataset\n",
    "    months = 0\n",
    "    net = 0\n",
    "    values = [ ]\n",
    "    dates = [ ]\n",
    "    dif = [ ]\n",
    "    next(csvreader)\n",
    "    for row in csvreader:\n",
    "        long = len(row[0])\n",
    "        if long != 0:\n",
    "            months = months + 1\n",
    "            \n",
    "    #Create a list for dates: will be used later            \n",
    "        dates.append(row[0])\n",
    "            \n",
    "    #The total net amount of \"Profit/Losses\" over the entire period\n",
    "        net = net + int(row[1])\n",
    "        \n",
    "    #The average change on \"Profit/Losses\" between months\n",
    "        values.append(int(row[1]))\n",
    "        \n",
    "    for i in range(len(values)):\n",
    "        if i>0:\n",
    "            change = int(values[i])-int(values[i-1])\n",
    "            dif.append(change)\n",
    "    sumdif = sum(dif)\n",
    "    avg= sumdif/len(dif)\n",
    "    #The greatest increase in profits: amount \n",
    "    greatest = max(dif)\n",
    "               \n",
    "    #The greatest decrease in losses: amount\n",
    "    loss = min(dif)\n",
    "    \n",
    "    #dates\n",
    "    for i,j in enumerate(dif):\n",
    "        if j == greatest:\n",
    "            greatestdate= dates[i+1]\n",
    "        if j == loss:\n",
    "            lossdate = dates[i+1]      \n"
   ]
  },
  {
   "cell_type": "code",
   "execution_count": 5,
   "metadata": {},
   "outputs": [
    {
     "name": "stdout",
     "output_type": "stream",
     "text": [
      "Financial Analysis\n",
      "--------------------------------------\n",
      "Total Months: 86\n",
      "Total: 38382578\n",
      "Average Change: -2315.1176470588234\n",
      "Greatest Increase in Profits: Feb-2012($1926159)\n",
      "Greatest Increase in Profits: Sep-2013($-2196167)\n"
     ]
    }
   ],
   "source": [
    "#Output\n",
    "print(\"Financial Analysis\")\n",
    "print(\"--------------------------------------\")\n",
    "print(\"Total Months: \" + str(months))\n",
    "print(\"Total: \" + str(net))\n",
    "print(\"Average Change: \" + str(avg))\n",
    "print(\"Greatest Increase in Profits: \" + greatestdate +\"($\" +str(greatest) +\")\")\n",
    "print(\"Greatest Increase in Profits: \" + lossdate +\"($\" +str(loss) +\")\")"
   ]
  },
  {
   "cell_type": "code",
   "execution_count": 7,
   "metadata": {},
   "outputs": [],
   "source": [
    "#Text file\n",
    "\n",
    "file = open (\"PyBank_Results.txt\",\"w\")\n",
    "\n",
    "file.write(\"Financial Analysis\")\n",
    "file.write(\"--------------------------------------\")\n",
    "file.write(\"Total Months: \" + str(months))\n",
    "file.write(\"Total: \" + str(net))\n",
    "file.write(\"Average Change: \" + str(avg))\n",
    "file.write(\"Greatest Increase in Profits: \" + greatestdate +\"($\" +str(greatest) +\")\")\n",
    "file.write(\"Greatest Increase in Profits: \" + lossdate +\"($\" +str(loss) +\")\")\n",
    "\n",
    "file.close()"
   ]
  },
  {
   "cell_type": "code",
   "execution_count": null,
   "metadata": {},
   "outputs": [],
   "source": []
  }
 ],
 "metadata": {
  "kernelspec": {
   "display_name": "Python 3",
   "language": "python",
   "name": "python3"
  },
  "language_info": {
   "codemirror_mode": {
    "name": "ipython",
    "version": 3
   },
   "file_extension": ".py",
   "mimetype": "text/x-python",
   "name": "python",
   "nbconvert_exporter": "python",
   "pygments_lexer": "ipython3",
   "version": "3.7.0"
  }
 },
 "nbformat": 4,
 "nbformat_minor": 2
}
