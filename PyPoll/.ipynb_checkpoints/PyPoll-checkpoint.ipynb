{
 "cells": [
  {
   "cell_type": "code",
   "execution_count": 1,
   "metadata": {},
   "outputs": [],
   "source": [
    "#Dependencies\n",
    "import os\n",
    "import csv\n",
    "from decimal import Decimal\n"
   ]
  },
  {
   "cell_type": "code",
   "execution_count": 2,
   "metadata": {},
   "outputs": [],
   "source": [
    "#set path the file\n",
    "csvpath = os.path.join('election_data.csv')\n",
    "#open the CSV\n",
    "with open(csvpath, newline=\"\") as csvfile:\n",
    "    csvreader = csv.reader(csvfile,delimiter=\",\")\n",
    "    \n",
    "    next(csvreader)\n",
    "    \n",
    "    #Used variables\n",
    "    n = 0\n",
    "    candidates = [ ]\n",
    "    votes = [ ]\n",
    "    votesnumber = [ ]\n",
    "    percentage = [ ]\n",
    "    \n",
    "    #number of votes\n",
    "    for row in csvreader:\n",
    "        long = len(row[0])\n",
    "        if long != 0:\n",
    "            n = n + 1\n",
    "        \n",
    "        votes.append(row[2])\n",
    "           \n",
    "    #Find the list of candidate names\n",
    "        if row[2] not in candidates:\n",
    "            candidates.append(row[2])\n",
    "    \n",
    "    #Number of votes\n",
    "    for name in candidates:\n",
    "        votesnumber.append(votes.count(name))\n",
    "        \n",
    "    #Percentage of votes\n",
    "    for number in votesnumber:\n",
    "        percentage.append(Decimal(int(number)*100/int(n)))\n",
    "        \n",
    "    #Election Winner\n",
    "    position=votesnumber.index(max(votesnumber))\n",
    "    Winner = candidates[position]\n",
    "       "
   ]
  },
  {
   "cell_type": "code",
   "execution_count": 5,
   "metadata": {},
   "outputs": [
    {
     "name": "stdout",
     "output_type": "stream",
     "text": [
      "Election Results\n",
      "--------------------------------------------------\n",
      "Total Votes: 3521001\n",
      "--------------------------------------------------\n",
      "Khan: 63.000% (2218231)\n",
      "Correy: 20.000% (704200)\n",
      "Li: 14.000% (492940)\n",
      "O'Tooley: 3.000% (105630)\n",
      "--------------------------------------------------\n",
      "Winner: Khan\n",
      "--------------------------------------------------\n"
     ]
    }
   ],
   "source": [
    "#Print Data\n",
    "print('Election Results')\n",
    "print('--------------------------------------------------')\n",
    "print('Total Votes: ' + str(n))\n",
    "print('--------------------------------------------------')\n",
    "i=0\n",
    "for i in range(len(candidates)):\n",
    "    print(candidates[i] + ': ' + str(round(percentage[i],3)) + '% ' + '('+ str(votesnumber[i]) + ')')\n",
    "i=i + 1\n",
    "print('--------------------------------------------------')\n",
    "print('Winner: ' + Winner)\n",
    "print('--------------------------------------------------')"
   ]
  },
  {
   "cell_type": "code",
   "execution_count": 7,
   "metadata": {},
   "outputs": [],
   "source": [
    "#Text file\n",
    "file = open (\"PyPoll_Results.txt\",\"w\")\n",
    "\n",
    "file.write('Election Results')\n",
    "file.write('--------------------------------------------------')\n",
    "file.write('Total Votes: ' + str(n))\n",
    "file.write('--------------------------------------------------')\n",
    "j=0\n",
    "for i in range(len(candidates)):file.write(candidates[i] + ': '+ str(round(percentage[i],3)) + '% ' + \n",
    "              '('+ str(votesnumber[i]) + ')')\n",
    "j=j + 1\n",
    "file.write('--------------------------------------------------')\n",
    "file.write('Winner: ' + Winner)\n",
    "file.write('--------------------------------------------------')\n",
    "\n",
    "file.close()\n"
   ]
  },
  {
   "cell_type": "code",
   "execution_count": null,
   "metadata": {},
   "outputs": [],
   "source": [
    "#END"
   ]
  }
 ],
 "metadata": {
  "kernelspec": {
   "display_name": "Python 3",
   "language": "python",
   "name": "python3"
  },
  "language_info": {
   "codemirror_mode": {
    "name": "ipython",
    "version": 3
   },
   "file_extension": ".py",
   "mimetype": "text/x-python",
   "name": "python",
   "nbconvert_exporter": "python",
   "pygments_lexer": "ipython3",
   "version": "3.7.0"
  }
 },
 "nbformat": 4,
 "nbformat_minor": 2
}
